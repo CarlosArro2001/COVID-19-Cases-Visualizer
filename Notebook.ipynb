{
 "cells": [
  {
   "cell_type": "markdown",
   "metadata": {},
   "source": [
    "# Data Analysis of COVID-19 Cases from 2020 - 2021"
   ]
  },
  {
   "cell_type": "markdown",
   "metadata": {},
   "source": [
    "### What is this project?\n",
    "This project is simply an analysis of COVID-19 cases from the start to the date 10/25/2021, this project aims to display comparisons using visualizations as well as utilization of statistical calculations to further these comparisons and other findings. "
   ]
  },
  {
   "cell_type": "markdown",
   "metadata": {},
   "source": [
    "### Table of contents"
   ]
  },
  {
   "cell_type": "markdown",
   "metadata": {},
   "source": [
    "### Library Imports"
   ]
  },
  {
   "cell_type": "code",
   "execution_count": 2,
   "metadata": {},
   "outputs": [],
   "source": [
    "import pandas as pd \n",
    "import numpy as np\n",
    "import matplotlib.pyplot as plt \n",
    "import seaborn as sns "
   ]
  },
  {
   "cell_type": "markdown",
   "metadata": {},
   "source": [
    "### Reading the data \n",
    "\n",
    "Aim here is to import the data and understand it's contents, datatypes and etc."
   ]
  },
  {
   "cell_type": "code",
   "execution_count": 3,
   "metadata": {},
   "outputs": [],
   "source": [
    "df = pd.read_csv('owid-covid-data.csv')"
   ]
  },
  {
   "cell_type": "markdown",
   "metadata": {},
   "source": [
    "### Setting up the data for continent comparison"
   ]
  },
  {
   "cell_type": "code",
   "execution_count": 6,
   "metadata": {},
   "outputs": [
    {
     "name": "stdout",
     "output_type": "stream",
     "text": [
      "['Asia', 'Europe', 'Africa', 'North America', 'South America', 'Oceania']\n"
     ]
    }
   ],
   "source": [
    "continents = df['continent'].unique().tolist()\n",
    "continents.remove(np.nan)\n",
    "print(continents)"
   ]
  },
  {
   "cell_type": "code",
   "execution_count": 80,
   "metadata": {},
   "outputs": [],
   "source": [
    "# Retrieving the the current cases from all countries in Africa as of 2021-10-25\n",
    "African_countries_current_cases = sum(df[(df['continent']=='Africa') & (df['date']=='2021-10-25')]['total_cases'].tolist())\n",
    "# Retrieving the current cases from all countries in Asia as of 2021-10-25, upon inspection of the list before sum() I noticed 'nan' from the country of Maccao so I had to clean it \n",
    "Asian_countries_current_cases = df[(df['continent']=='Asia') & (df['date']=='2021-10-25') & (df['total_cases'] != None)]['total_cases'].tolist()\n",
    "Asian_countries_current_cases = [x for x in Asian_countries_current_cases if np.isnan(x)== False] \n",
    "Asian_countries_current_cases = sum(Asian_countries_current_cases)\n",
    "# Retrieving the current cases from Europe \n",
    "European_countries_current_cases = df[(df['continent']=='Europe')&(df['date']=='2021-10-25')]['total_cases'].tolist()\n",
    "European_countries_current_cases = [x for x in European_countries_current_cases if np.isnan(x) == False]\n",
    "European_countries_current_cases = sum(European_countries_current_cases) \n",
    "# Retrieving current cases from North America\n",
    "NorthAmerica_countries_current_cases = df[(df['continent']=='North America') & (df['date']=='2021-10-25')]['total_cases'].tolist()\n",
    "NorthAmerica_countries_current_cases = [x for x in NorthAmerica_countries_current_cases if np.isnan(x)==False]\n",
    "NorthAmerica_countries_current_cases = sum(NorthAmerica_countries_current_cases)\n",
    "#Retrieving current cases from South America\n",
    "SouthAmerica_countries_current_cases = sum(df[(df['continent']=='South America') & (df['date']=='2021-10-25')]['total_cases'].tolist())\n",
    "#Retrieving current cases from Oceania \n",
    "Oceania_countries_current_cases = df[(df['continent']=='Oceania') & (df['date']=='2021-10-25')]['total_cases'].tolist()\n",
    "Oceania_countries_current_cases = [x for x in Oceania_countries_current_cases if np.isnan(x)==False]\n",
    "Oceania_countries_current_cases = sum(Oceania_countries_current_cases)"
   ]
  }
 ],
 "metadata": {
  "interpreter": {
   "hash": "4ce0e62306dd6a5716965d4519ada776f947e6dfc145b604b11307c10277ef29"
  },
  "kernelspec": {
   "display_name": "Python 3.9.1 64-bit",
   "name": "python3"
  },
  "language_info": {
   "codemirror_mode": {
    "name": "ipython",
    "version": 3
   },
   "file_extension": ".py",
   "mimetype": "text/x-python",
   "name": "python",
   "nbconvert_exporter": "python",
   "pygments_lexer": "ipython3",
   "version": "3.9.1"
  },
  "orig_nbformat": 4
 },
 "nbformat": 4,
 "nbformat_minor": 2
}
